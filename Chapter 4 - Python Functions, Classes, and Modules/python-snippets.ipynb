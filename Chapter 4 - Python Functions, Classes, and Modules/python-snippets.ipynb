{
 "cells": [
  {
   "cell_type": "markdown",
   "source": [
    "# Functions"
   ],
   "metadata": {}
  },
  {
   "cell_type": "code",
   "execution_count": 7,
   "source": [
    "# Simply function with docstring\r\n",
    "\r\n",
    "def myFunction():\r\n",
    "    \"\"\"\r\n",
    "    This function prints something out to screen.\r\n",
    "    \r\n",
    "    Aside from that, it doens't do much.\r\n",
    "    \"\"\"\r\n",
    "    print(\"Something\")\r\n",
    "\r\n",
    "myFunction()\r\n",
    "print(myFunction.__doc__)"
   ],
   "outputs": [
    {
     "output_type": "stream",
     "name": "stdout",
     "text": [
      "Something\n",
      "\n",
      "    This function prints something out to screen.\n",
      "    \n",
      "    Aside from that, it doens't do much.\n",
      "    \n"
     ]
    }
   ],
   "metadata": {}
  },
  {
   "cell_type": "markdown",
   "source": [
    "# Classes"
   ],
   "metadata": {}
  },
  {
   "cell_type": "code",
   "execution_count": 8,
   "source": [
    "# Class\r\n",
    "\r\n",
    "class Person():\r\n",
    "    pass"
   ],
   "outputs": [],
   "metadata": {}
  },
  {
   "cell_type": "code",
   "execution_count": 14,
   "source": [
    "# Class with init function and doc string(s):\r\n",
    "\r\n",
    "class Car():\r\n",
    "    \"\"\"The car class from Disney's Cars (class)\"\"\"\r\n",
    "\r\n",
    "    def __init__(self, make, model, year):\r\n",
    "        \"\"\"The init method for the car class\"\"\"\r\n",
    "        self.make = make\r\n",
    "        self.model = model\r\n",
    "        self.year = year\r\n",
    "\r\n",
    "my_car = Car('Ford', 'Mustang', 1969)\r\n",
    "print(my_car.__doc__)\r\n",
    "print(my_car.__init__.__doc__)\r\n",
    "\r\n",
    "print(my_car.make)\r\n",
    "print(my_car.model)\r\n",
    "print(my_car.year)"
   ],
   "outputs": [
    {
     "output_type": "stream",
     "name": "stdout",
     "text": [
      "the car class from Disney's Cars (class)\n",
      "the init method for the car class\n",
      "Ford\n",
      "Mustang\n",
      "1969\n"
     ]
    }
   ],
   "metadata": {}
  },
  {
   "cell_type": "code",
   "execution_count": 22,
   "source": [
    "# Parent class with child class collecting attributes and methods \r\n",
    "# using inheritance; using Switch class as a subset of device - \r\n",
    "# a practical example in the real world\r\n",
    "\r\n",
    "\r\n",
    "class Device:\r\n",
    "    \"\"\"basic template for any device or thing\"\"\"\r\n",
    "    def __init__(self, id) -> None:\r\n",
    "        \"\"\"Initialization values\"\"\"\r\n",
    "        self.id = id\r\n",
    "\r\n",
    "    def print_id(self):\r\n",
    "        print(self.id)\r\n",
    "\r\n",
    "\r\n",
    "class Switch(Device):\r\n",
    "    \"\"\"extension of device class for a network switch\"\"\"\r\n",
    "    def __init__(self, id, model, firmware) -> None:\r\n",
    "        super().__init__(id) # special Python function to pull parent\r\n",
    "        self.model = model\r\n",
    "        self.firmware = firmware\r\n",
    "\r\n",
    "    def print_model(self):\r\n",
    "        print(self.model)\r\n",
    "    \r\n",
    "    def print_firmware(self):\r\n",
    "        print(self.firmware)\r\n",
    "\r\n",
    "\r\n",
    "my_switch = Switch(96651, model='Cisco Catalyst', firmware=109.87)\r\n",
    "my_switch.print_id()\r\n",
    "my_switch.print_model()\r\n",
    "my_switch.print_firmware()\r\n"
   ],
   "outputs": [
    {
     "output_type": "stream",
     "name": "stdout",
     "text": [
      "96651\n",
      "Cisco Catalyst\n",
      "109.87\n"
     ]
    }
   ],
   "metadata": {}
  },
  {
   "cell_type": "markdown",
   "source": [
    "# Modules"
   ],
   "metadata": {}
  },
  {
   "cell_type": "code",
   "execution_count": 25,
   "source": [
    "# Import module, show it's contents with dir function\r\n",
    "\r\n",
    "import math\r\n",
    "\r\n",
    "print(str(dir(math)))"
   ],
   "outputs": [
    {
     "output_type": "stream",
     "name": "stdout",
     "text": [
      "['__doc__', '__loader__', '__name__', '__package__', '__spec__', 'acos', 'acosh', 'asin', 'asinh', 'atan', 'atan2', 'atanh', 'ceil', 'comb', 'copysign', 'cos', 'cosh', 'degrees', 'dist', 'e', 'erf', 'erfc', 'exp', 'expm1', 'fabs', 'factorial', 'floor', 'fmod', 'frexp', 'fsum', 'gamma', 'gcd', 'hypot', 'inf', 'isclose', 'isfinite', 'isinf', 'isnan', 'isqrt', 'lcm', 'ldexp', 'lgamma', 'log', 'log10', 'log1p', 'log2', 'modf', 'nan', 'nextafter', 'perm', 'pi', 'pow', 'prod', 'radians', 'remainder', 'sin', 'sinh', 'sqrt', 'tan', 'tanh', 'tau', 'trunc', 'ulp']\n"
     ]
    }
   ],
   "metadata": {}
  },
  {
   "cell_type": "code",
   "execution_count": 30,
   "source": [
    "# use the help function to get specific help\r\n",
    "\r\n",
    "help(math) # warning - long output"
   ],
   "outputs": [],
   "metadata": {}
  },
  {
   "cell_type": "code",
   "execution_count": 32,
   "source": [
    "# to load in (import modules), Python looks in current dir, or at the\r\n",
    "# end of directories in path variable\r\n",
    "\r\n",
    "# check the path environment variable\r\n",
    "\r\n",
    "import sys\r\n",
    "\r\n",
    "print(sys.path)"
   ],
   "outputs": [
    {
     "output_type": "stream",
     "name": "stdout",
     "text": [
      "['c:\\\\Users\\\\zanes\\\\OneDrive\\\\Code\\\\Learning\\\\DevNet-Associate-DEVASC-200-901\\\\Chapter 4 - Python Functions, Classes, and Modules', 'c:\\\\Users\\\\zanes\\\\.vscode\\\\extensions\\\\ms-toolsai.jupyter-2021.8.1046824664\\\\pythonFiles', 'c:\\\\Users\\\\zanes\\\\.vscode\\\\extensions\\\\ms-toolsai.jupyter-2021.8.1046824664\\\\pythonFiles\\\\lib\\\\python', 'C:\\\\Users\\\\zanes\\\\AppData\\\\Local\\\\Programs\\\\Python\\\\Python39\\\\python39.zip', 'C:\\\\Users\\\\zanes\\\\AppData\\\\Local\\\\Programs\\\\Python\\\\Python39\\\\DLLs', 'C:\\\\Users\\\\zanes\\\\AppData\\\\Local\\\\Programs\\\\Python\\\\Python39\\\\lib', 'C:\\\\Users\\\\zanes\\\\AppData\\\\Local\\\\Programs\\\\Python\\\\Python39', 'c:\\\\Users\\\\zanes\\\\OneDrive\\\\Code\\\\Learning\\\\DevNet-Associate-DEVASC-200-901\\\\pythonenv', '', 'c:\\\\Users\\\\zanes\\\\OneDrive\\\\Code\\\\Learning\\\\DevNet-Associate-DEVASC-200-901\\\\pythonenv\\\\lib\\\\site-packages', 'c:\\\\Users\\\\zanes\\\\OneDrive\\\\Code\\\\Learning\\\\DevNet-Associate-DEVASC-200-901\\\\pythonenv\\\\lib\\\\site-packages\\\\win32', 'c:\\\\Users\\\\zanes\\\\OneDrive\\\\Code\\\\Learning\\\\DevNet-Associate-DEVASC-200-901\\\\pythonenv\\\\lib\\\\site-packages\\\\win32\\\\lib', 'c:\\\\Users\\\\zanes\\\\OneDrive\\\\Code\\\\Learning\\\\DevNet-Associate-DEVASC-200-901\\\\pythonenv\\\\lib\\\\site-packages\\\\Pythonwin', 'c:\\\\Users\\\\zanes\\\\OneDrive\\\\Code\\\\Learning\\\\DevNet-Associate-DEVASC-200-901\\\\pythonenv\\\\lib\\\\site-packages\\\\IPython\\\\extensions', 'C:\\\\Users\\\\zanes\\\\.ipython']\n"
     ]
    }
   ],
   "metadata": {}
  },
  {
   "cell_type": "code",
   "execution_count": null,
   "source": [],
   "outputs": [],
   "metadata": {}
  }
 ],
 "metadata": {
  "orig_nbformat": 4,
  "language_info": {
   "name": "python",
   "version": "3.9.4",
   "mimetype": "text/x-python",
   "codemirror_mode": {
    "name": "ipython",
    "version": 3
   },
   "pygments_lexer": "ipython3",
   "nbconvert_exporter": "python",
   "file_extension": ".py"
  },
  "kernelspec": {
   "name": "python3",
   "display_name": "Python 3.9.4 64-bit ('pythonenv': venv)"
  },
  "interpreter": {
   "hash": "d5b0bae0a91c8b42c177ee7ef5b6dbba736eee820cd0a526f053effa466d1df8"
  }
 },
 "nbformat": 4,
 "nbformat_minor": 2
}