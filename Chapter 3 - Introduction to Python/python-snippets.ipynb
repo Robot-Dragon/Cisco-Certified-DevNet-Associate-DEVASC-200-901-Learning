{
 "cells": [
  {
   "cell_type": "code",
   "execution_count": 18,
   "source": [
    "# Capturing numbers in different base-x systems\r\n",
    "\r\n",
    "print('A binary number is: ' + str(0b100010110))\r\n",
    "print('An octal number is: ' + str(0o16641))\r\n",
    "print('A hex number is: ' + str(0x190AF))"
   ],
   "outputs": [
    {
     "output_type": "stream",
     "name": "stdout",
     "text": [
      "A binary number is: 278\n",
      "An octal number is: 7585\n",
      "A hex number is: 102575\n"
     ]
    }
   ],
   "metadata": {}
  },
  {
   "cell_type": "code",
   "execution_count": 34,
   "source": [
    "# Basic user input to variable\r\n",
    "\r\n",
    "user_input = input(\"Enter some input: \")\r\n",
    "print(user_input)"
   ],
   "outputs": [
    {
     "output_type": "stream",
     "name": "stdout",
     "text": [
      "Zane\n"
     ]
    }
   ],
   "metadata": {}
  },
  {
   "cell_type": "code",
   "execution_count": 16,
   "source": [
    "# Seperator argument in string\r\n",
    "\r\n",
    "print('hello', 'world')\r\n",
    "print('hello', 'world', sep='')"
   ],
   "outputs": [
    {
     "output_type": "stream",
     "name": "stdout",
     "text": [
      "hello world\n",
      "helloworld\n"
     ]
    }
   ],
   "metadata": {}
  },
  {
   "cell_type": "code",
   "execution_count": 15,
   "source": [
    "# 'f' strings to add variables directly into strings\r\n",
    "\r\n",
    "my_varaible = 'Zane'\r\n",
    "print(f'Your name is {my_varaible}')"
   ],
   "outputs": [
    {
     "output_type": "stream",
     "name": "stdout",
     "text": [
      "Your name is Zane\n"
     ]
    }
   ],
   "metadata": {}
  },
  {
   "cell_type": "code",
   "execution_count": 28,
   "source": [
    "# Basic if condition\r\n",
    "\r\n",
    "n = 20\r\n",
    "if n == 20:\r\n",
    "    print(\"It's 20!\")\r\n",
    "else:\r\n",
    "    print(\"It's not 20\")"
   ],
   "outputs": [
    {
     "output_type": "stream",
     "name": "stdout",
     "text": [
      "It's 20!\n"
     ]
    }
   ],
   "metadata": {}
  },
  {
   "cell_type": "code",
   "execution_count": 33,
   "source": [
    "# elif\r\n",
    "\r\n",
    "user_score = int(input(\"What was your score? \"))\r\n",
    "\r\n",
    "if user_score >= 90:\r\n",
    "    print(\"Well done!\")\r\n",
    "elif user_score < 90 and user_score > 50:\r\n",
    "    print(\"Not too bad...\")\r\n",
    "else:\r\n",
    "    print(\"Terrible!\")"
   ],
   "outputs": [
    {
     "output_type": "stream",
     "name": "stdout",
     "text": [
      "Not too bad...\n"
     ]
    }
   ],
   "metadata": {}
  },
  {
   "cell_type": "code",
   "execution_count": 25,
   "source": [
    "# Combination of conditions\r\n",
    "\r\n",
    "n = int(input(\"Enter a number: \"))\r\n",
    "if n > 0 and n < 100:\r\n",
    "    print(\"It's between 100\")\r\n",
    "else:\r\n",
    "    print(\"Outside 100\")"
   ],
   "outputs": [
    {
     "output_type": "stream",
     "name": "stdout",
     "text": [
      "Outside 100\n"
     ]
    }
   ],
   "metadata": {}
  },
  {
   "cell_type": "code",
   "execution_count": null,
   "source": [],
   "outputs": [],
   "metadata": {}
  },
  {
   "cell_type": "code",
   "execution_count": null,
   "source": [],
   "outputs": [],
   "metadata": {}
  }
 ],
 "metadata": {
  "orig_nbformat": 4,
  "language_info": {
   "name": "python",
   "version": "3.9.4",
   "mimetype": "text/x-python",
   "codemirror_mode": {
    "name": "ipython",
    "version": 3
   },
   "pygments_lexer": "ipython3",
   "nbconvert_exporter": "python",
   "file_extension": ".py"
  },
  "kernelspec": {
   "name": "python3",
   "display_name": "Python 3.9.4 64-bit ('pythonenv': venv)"
  },
  "interpreter": {
   "hash": "d5b0bae0a91c8b42c177ee7ef5b6dbba736eee820cd0a526f053effa466d1df8"
  }
 },
 "nbformat": 4,
 "nbformat_minor": 2
}