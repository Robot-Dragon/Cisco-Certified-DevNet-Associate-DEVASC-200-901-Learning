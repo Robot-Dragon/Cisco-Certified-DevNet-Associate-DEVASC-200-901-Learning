{
 "cells": [
  {
   "cell_type": "markdown",
   "metadata": {},
   "source": [
    "# Reading in text files"
   ]
  },
  {
   "cell_type": "code",
   "execution_count": 6,
   "metadata": {},
   "outputs": [
    {
     "name": "stdout",
     "output_type": "stream",
     "text": [
      "line 1\n",
      "line 2\n",
      "this is line 3\n",
      "this is line 4\n"
     ]
    }
   ],
   "source": [
    "# read a text file into an object (variable), print contents\n",
    "# ensure file is closed when completed!\n",
    "\n",
    "read_file_date = open('read-into-python.txt', 'r')\n",
    "\n",
    "print(read_file_date.read())\n",
    "\n",
    "read_file_date.close()"
   ]
  },
  {
   "cell_type": "code",
   "execution_count": 7,
   "metadata": {},
   "outputs": [
    {
     "name": "stdout",
     "output_type": "stream",
     "text": [
      "line 1\n",
      "line 2\n",
      "this is line 3\n",
      "this is line 4\n"
     ]
    }
   ],
   "source": [
    "# a cleaner of way of reading\n",
    "# closes automatically\n",
    "# default exception handling\n",
    "# uses 'with' keyword - a Python context manager\n",
    "\n",
    "with open(\"read-into-python.txt\", \"r\") as data:\n",
    " print(data.read())"
   ]
  },
  {
   "cell_type": "markdown",
   "metadata": {},
   "source": [
    "# Reading CSVs"
   ]
  },
  {
   "cell_type": "code",
   "execution_count": 8,
   "metadata": {},
   "outputs": [],
   "source": [
    "import csv"
   ]
  },
  {
   "cell_type": "code",
   "execution_count": 17,
   "metadata": {},
   "outputs": [
    {
     "data": {
      "text/plain": [
       "[['router1', '192.168.10.1', 'Nashville'],\n",
       " ['router2', '192.168.20.1', 'Tampa'],\n",
       " ['router3', '192.168.30.1', 'San Jose']]"
      ]
     },
     "execution_count": 17,
     "metadata": {},
     "output_type": "execute_result"
    }
   ],
   "source": [
    "# basic print csv output\n",
    "\n",
    "csv_file = open('routerlist.csv', 'r')\n",
    "csv_reader = csv.reader(csv_file)\n",
    "csv_data = list(csv_reader)\n",
    "csv_data"
   ]
  },
  {
   "cell_type": "code",
   "execution_count": 38,
   "metadata": {},
   "outputs": [
    {
     "name": "stdout",
     "output_type": "stream",
     "text": [
      "router1 is in Nashville and has IP 192.168.10.1.\n",
      "router2 is in Tampa and has IP 192.168.20.1.\n",
      "router3 is in San Jose and has IP 192.168.30.1.\n",
      "router4 is in Washington and has IP 192.168.40.1.\n"
     ]
    }
   ],
   "source": [
    "# more sophisticated way of opening, using with function\n",
    "\n",
    "with open('routerlist.csv') as data:\n",
    "    csv_list = csv.reader(data)\n",
    "    for row in csv_list:\n",
    "        device = row[0]\n",
    "        location = row[2]\n",
    "        ip = row[1]\n",
    "        print(f'{device} is in {location.rstrip()} and has IP {ip}.')"
   ]
  },
  {
   "cell_type": "code",
   "execution_count": 37,
   "metadata": {},
   "outputs": [],
   "source": [
    "# add a new router to the csv file\n",
    "\n",
    "new_router = ['router4', '192.168.40.1', 'Washington']\n",
    "\n",
    "with open('routerlist.csv', 'a+', newline='') as data:\n",
    "    csv_writer = csv.writer(data)\n",
    "    csv_writer.writerow(new_router)"
   ]
  },
  {
   "cell_type": "markdown",
   "metadata": {},
   "source": [
    "# JavaScript Object Notation (JSON)"
   ]
  },
  {
   "cell_type": "code",
   "execution_count": 39,
   "metadata": {},
   "outputs": [],
   "source": [
    "import json"
   ]
  },
  {
   "cell_type": "code",
   "execution_count": 52,
   "metadata": {},
   "outputs": [
    {
     "name": "stdout",
     "output_type": "stream",
     "text": [
      "<class 'str'> \n",
      "\n",
      "{\n",
      "  \"interface\": {\n",
      "    \"name\": \"GigabitEthernet1\",\n",
      "    \"description\": \"Router Uplink\",\n",
      "    \"enabled\": true,\n",
      "    \"ipv4\": {\n",
      "      \"address\": [\n",
      "        {\n",
      "          \"ip\": \"192.168.1.1\",\n",
      "          \"netmask\": \"255.255.255.0\"\n",
      "        }\n",
      "      ]\n",
      "    }\n",
      "  }\n",
      "}\n",
      "\n",
      "\n",
      "-----------\n",
      "\n",
      "<class 'dict'> \n",
      "\n",
      "{'interface': {'name': 'GigabitEthernet1', 'description': 'Router Uplink', 'enabled': True, 'ipv4': {'address': [{'ip': '192.168.1.1', 'netmask': '255.255.255.0'}]}}}\n",
      "\n",
      "-----------\n",
      "\n",
      "<class 'dict'> \n",
      "\n",
      "{'interface': {'name': 'GigabitEthernet1', 'description': 'Router Uplink', 'enabled': True, 'ipv4': {'address': [{'ip': '192.168.1.1', 'netmask': '255.255.255.0'}]}}}\n"
     ]
    }
   ],
   "source": [
    "# Reading JSON into a serialized string, then coverting to Python dict\n",
    "# with loads()\n",
    "\n",
    "with open('json_sample.json', 'r') as data:\n",
    "    json_data = data.read()\n",
    "\n",
    "json_dict = json.loads(json_data)\n",
    "\n",
    "print(type(json_data), '\\n')\n",
    "print(json_data)\n",
    "\n",
    "print('\\n-----------\\n')\n",
    "\n",
    "print(type(json_dict), '\\n')\n",
    "print(json_dict)\n",
    "\n",
    "print('\\n-----------\\n')\n",
    "\n",
    "# Reading in JSON directly to a Python dict with load()\n",
    "\n",
    "with open('json_sample.json', 'r') as data:\n",
    "    json_dict = json.load(data)\n",
    "\n",
    "print(type(json_dict), '\\n')\n",
    "print(json_dict)"
   ]
  },
  {
   "cell_type": "markdown",
   "metadata": {},
   "source": [
    "# Extensible Markup Language (XML)"
   ]
  },
  {
   "cell_type": "code",
   "execution_count": 1,
   "metadata": {},
   "outputs": [],
   "source": [
    "import xmltodict"
   ]
  },
  {
   "cell_type": "code",
   "execution_count": 4,
   "metadata": {},
   "outputs": [
    {
     "name": "stdout",
     "output_type": "stream",
     "text": [
      "OrderedDict([('interface', OrderedDict([('@xmlns', 'ietf-interfaces'), ('name', 'GigabitEthernet2'), ('description', 'Wide Area Network'), ('enabled', 'true'), ('ipv4', OrderedDict([('address', OrderedDict([('ip', '192.168.1.5'), ('netmask', '255.255.255.0')]))]))]))])\n"
     ]
    }
   ],
   "source": [
    "# Create Python dict with xmltodict module help in reading file\n",
    "\n",
    "with open('xml_sample.xml') as data:\n",
    "    xml_data = data.read()\n",
    "\n",
    "xml_dict = xmltodict.parse(xml_data)\n",
    "\n",
    "print(xml_dict)"
   ]
  },
  {
   "cell_type": "code",
   "execution_count": 11,
   "metadata": {},
   "outputs": [],
   "source": [
    "# Make a change to the XML Pytohn dict with indexing\n",
    "\n",
    "xml_dict['interface']['ipv4']['address']['ip'] = '192.168.100.2'"
   ]
  },
  {
   "cell_type": "code",
   "execution_count": 12,
   "metadata": {},
   "outputs": [
    {
     "name": "stdout",
     "output_type": "stream",
     "text": [
      "<?xml version=\"1.0\" encoding=\"utf-8\"?>\n",
      "<interface xmlns=\"ietf-interfaces\">\n",
      "\t<name>GigabitEthernet2</name>\n",
      "\t<description>Wide Area Network</description>\n",
      "\t<enabled>true</enabled>\n",
      "\t<ipv4>\n",
      "\t\t<address>\n",
      "\t\t\t<ip>192.168.100.2</ip>\n",
      "\t\t\t<netmask>255.255.255.0</netmask>\n",
      "\t\t</address>\n",
      "\t</ipv4>\n",
      "</interface>\n"
     ]
    }
   ],
   "source": [
    "# print out the XML file\n",
    "\n",
    "print(xmltodict.unparse(xml_dict, pretty=True))"
   ]
  },
  {
   "cell_type": "markdown",
   "metadata": {},
   "source": [
    "# YAML Ain't Markup Language (YAML)"
   ]
  },
  {
   "cell_type": "code",
   "execution_count": 13,
   "metadata": {},
   "outputs": [],
   "source": [
    "import yaml"
   ]
  },
  {
   "cell_type": "code",
   "execution_count": 17,
   "metadata": {},
   "outputs": [
    {
     "name": "stdout",
     "output_type": "stream",
     "text": [
      "<class 'dict'>\n",
      "{'interface': {'name': 'GigabitEthernet2', 'description': 'Wide Area Network', 'enabled': True, 'ipv4': None, 'address': [{'ip': '172.16.0.2'}], 'netmask': '255.255.255.0', 'addresses': [{'ip': '172.16.0.2', 'netmask': '255.255.255.0'}, {'ip': '172.16.0.3', 'netmask': '255.255.255.0'}, {'ip': '172.16.0.4', 'netmask': '255.255.255.0'}]}}\n"
     ]
    }
   ],
   "source": [
    "# read in YAML file\n",
    "\n",
    "with open('yaml_sample.yaml') as data:\n",
    "    yaml_data = data.read()\n",
    "\n",
    "yaml_dict = yaml.load(yaml_data, Loader=yaml.FullLoader)\n",
    "\n",
    "print(type(yaml_dict))\n",
    "print(yaml_dict)"
   ]
  },
  {
   "cell_type": "markdown",
   "metadata": {},
   "source": [
    "# Unit Testing"
   ]
  },
  {
   "cell_type": "code",
   "execution_count": 18,
   "metadata": {},
   "outputs": [],
   "source": [
    "import unittest"
   ]
  },
  {
   "cell_type": "code",
   "execution_count": 19,
   "metadata": {},
   "outputs": [],
   "source": [
    "# Will run unittest in seperate file"
   ]
  },
  {
   "cell_type": "code",
   "execution_count": null,
   "metadata": {},
   "outputs": [],
   "source": []
  }
 ],
 "metadata": {
  "interpreter": {
   "hash": "d5b0bae0a91c8b42c177ee7ef5b6dbba736eee820cd0a526f053effa466d1df8"
  },
  "kernelspec": {
   "display_name": "Python 3.9.4 64-bit ('pythonenv': venv)",
   "name": "python3"
  },
  "language_info": {
   "codemirror_mode": {
    "name": "ipython",
    "version": 3
   },
   "file_extension": ".py",
   "mimetype": "text/x-python",
   "name": "python",
   "nbconvert_exporter": "python",
   "pygments_lexer": "ipython3",
   "version": "3.9.4"
  },
  "orig_nbformat": 4
 },
 "nbformat": 4,
 "nbformat_minor": 2
}
