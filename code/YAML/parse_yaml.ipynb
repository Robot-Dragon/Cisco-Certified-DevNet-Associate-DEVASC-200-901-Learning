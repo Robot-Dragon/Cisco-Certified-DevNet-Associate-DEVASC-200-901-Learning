{
 "cells": [
  {
   "cell_type": "code",
   "execution_count": 12,
   "metadata": {},
   "outputs": [],
   "source": [
    "import yaml"
   ]
  },
  {
   "cell_type": "code",
   "execution_count": 3,
   "metadata": {},
   "outputs": [
    {
     "name": "stderr",
     "output_type": "stream",
     "text": [
      "C:\\Users\\zanes\\AppData\\Local\\Temp/ipykernel_14960/748970879.py:1: YAMLLoadWarning: calling yaml.load() without Loader=... is deprecated, as the default Loader is unsafe. Please read https://msg.pyyaml.org/load for full details.\n",
      "  yaml.load('3.14')\n"
     ]
    },
    {
     "data": {
      "text/plain": [
       "3.14"
      ]
     },
     "execution_count": 3,
     "metadata": {},
     "output_type": "execute_result"
    }
   ],
   "source": [
    "yaml.load('3.14')"
   ]
  },
  {
   "cell_type": "code",
   "execution_count": 14,
   "metadata": {},
   "outputs": [
    {
     "name": "stderr",
     "output_type": "stream",
     "text": [
      "C:\\Users\\zanes\\AppData\\Local\\Temp/ipykernel_14960/1363944779.py:2: YAMLLoadWarning: calling yaml.load() without Loader=... is deprecated, as the default Loader is unsafe. Please read https://msg.pyyaml.org/load for full details.\n",
      "  yaml_data = yaml.load(data)\n"
     ]
    }
   ],
   "source": [
    "with open('yaml_sample.yaml') as data:\n",
    "    yaml_data = yaml.load(data)"
   ]
  },
  {
   "cell_type": "code",
   "execution_count": 15,
   "metadata": {},
   "outputs": [
    {
     "name": "stdout",
     "output_type": "stream",
     "text": [
      "{'app': 'user-authentication', 'port': 9001, 'version': 1.2, 'newapp': 'user-authentcation \\n', 'microservice': {'app': 'user-authentication', 'port': 9001, 'version': 1.2}, 'microservices': [{'app': 'user-authentication-new', 'port': 9001, 'version': 1.2}, {'app': 'user-view', 'port': 9002, 'version': 1.0, 'deployedstringreal': False, 'deployedbooleanreal': True, 'deployedstring': 'no..', 'deployedboolean': 'true!'}], 'microservice-names': ['user-authentication-new', 'user-view'], 'people': [{'men': ['Zane', 'Eddie']}, {'women': ['Alysha', 'Loz']}], 'peoplebracketlists': [{'men': ['Zane', 'Eddie']}, {'women': ['Alysha', 'Loz']}], 'multilinestring': 'this is a multiline string\\nand this is the next line\\nand third line\\n', 'singlelinestring': 'this is a large single line seperated over multiple lines in the YAML file\\n', 'command': ['sh', '-c', '#!/usr/bin/env bash -e\\nhttp() {\\n    local path=\"${1}\"\\n    set -- -XGET -s --fail\\n    # some more stuff here\\n    curl -k \"$@\" \"http://localhost:5061${path}\"\\n}\\nhtto \"/app/kibana\"\\n']}\n"
     ]
    }
   ],
   "source": [
    "print(yaml_data)"
   ]
  },
  {
   "cell_type": "code",
   "execution_count": null,
   "metadata": {},
   "outputs": [],
   "source": []
  }
 ],
 "metadata": {
  "interpreter": {
   "hash": "d5b0bae0a91c8b42c177ee7ef5b6dbba736eee820cd0a526f053effa466d1df8"
  },
  "kernelspec": {
   "display_name": "Python 3.9.4 64-bit ('pythonenv': venv)",
   "language": "python",
   "name": "python3"
  },
  "language_info": {
   "codemirror_mode": {
    "name": "ipython",
    "version": 3
   },
   "file_extension": ".py",
   "mimetype": "text/x-python",
   "name": "python",
   "nbconvert_exporter": "python",
   "pygments_lexer": "ipython3",
   "version": "3.9.4"
  },
  "orig_nbformat": 4
 },
 "nbformat": 4,
 "nbformat_minor": 2
}
