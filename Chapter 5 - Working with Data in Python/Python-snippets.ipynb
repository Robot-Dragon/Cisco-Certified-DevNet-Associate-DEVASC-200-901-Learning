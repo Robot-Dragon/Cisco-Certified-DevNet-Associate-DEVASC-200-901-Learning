{
 "cells": [
  {
   "cell_type": "markdown",
   "source": [
    "# Reading in text files"
   ],
   "metadata": {}
  },
  {
   "cell_type": "code",
   "execution_count": 5,
   "source": [
    "# read a text file into an object (variable), print contents\r\n",
    "# ensure file is closed when completed!\r\n",
    "\r\n",
    "read_file_date = open('read-into-python.txt', 'r')\r\n",
    "\r\n",
    "print(read_file_date.read())\r\n",
    "\r\n",
    "read_file_date.close()"
   ],
   "outputs": [
    {
     "output_type": "stream",
     "name": "stdout",
     "text": [
      "line 1\n",
      "line 2\n",
      "this is line 3\n",
      "this is line 4\n"
     ]
    }
   ],
   "metadata": {}
  },
  {
   "cell_type": "code",
   "execution_count": 7,
   "source": [
    "# a cleaner of way of reading\r\n",
    "# closes automatically\r\n",
    "# default exception handling\r\n",
    "# uses 'with' keyword - a Python context manager\r\n",
    "\r\n",
    "with open(\"read-into-python.txt\", \"r\") as data:\r\n",
    " print(data.read())"
   ],
   "outputs": [
    {
     "output_type": "stream",
     "name": "stdout",
     "text": [
      "line 1\n",
      "line 2\n",
      "this is line 3\n",
      "this is line 4\n"
     ]
    }
   ],
   "metadata": {}
  },
  {
   "cell_type": "markdown",
   "source": [
    "# Reading CSVs"
   ],
   "metadata": {}
  },
  {
   "cell_type": "markdown",
   "source": [],
   "metadata": {}
  }
 ],
 "metadata": {
  "orig_nbformat": 4,
  "language_info": {
   "name": "python",
   "version": "3.9.4",
   "mimetype": "text/x-python",
   "codemirror_mode": {
    "name": "ipython",
    "version": 3
   },
   "pygments_lexer": "ipython3",
   "nbconvert_exporter": "python",
   "file_extension": ".py"
  },
  "kernelspec": {
   "name": "python3",
   "display_name": "Python 3.9.4 64-bit ('pythonenv': venv)"
  },
  "interpreter": {
   "hash": "d5b0bae0a91c8b42c177ee7ef5b6dbba736eee820cd0a526f053effa466d1df8"
  }
 },
 "nbformat": 4,
 "nbformat_minor": 2
}