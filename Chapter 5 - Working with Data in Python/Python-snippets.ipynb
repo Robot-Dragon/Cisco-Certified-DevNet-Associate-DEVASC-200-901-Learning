{
 "cells": [
  {
   "cell_type": "markdown",
   "source": [
    "# Reading in text files"
   ],
   "metadata": {}
  },
  {
   "cell_type": "code",
   "execution_count": 5,
   "source": [
    "# read a text file into an object (variable), print contents\r\n",
    "# ensure file is closed when completed!\r\n",
    "\r\n",
    "read_file_date = open('read-into-python.txt', 'r')\r\n",
    "\r\n",
    "print(read_file_date.read())\r\n",
    "\r\n",
    "read_file_date.close()"
   ],
   "outputs": [
    {
     "output_type": "stream",
     "name": "stdout",
     "text": [
      "line 1\n",
      "line 2\n",
      "this is line 3\n",
      "this is line 4\n"
     ]
    }
   ],
   "metadata": {}
  },
  {
   "cell_type": "code",
   "execution_count": 7,
   "source": [
    "# a cleaner of way of reading\r\n",
    "# closes automatically\r\n",
    "# default exception handling\r\n",
    "# uses 'with' keyword - a Python context manager\r\n",
    "\r\n",
    "with open(\"read-into-python.txt\", \"r\") as data:\r\n",
    " print(data.read())"
   ],
   "outputs": [
    {
     "output_type": "stream",
     "name": "stdout",
     "text": [
      "line 1\n",
      "line 2\n",
      "this is line 3\n",
      "this is line 4\n"
     ]
    }
   ],
   "metadata": {}
  },
  {
   "cell_type": "markdown",
   "source": [
    "# Reading CSVs"
   ],
   "metadata": {}
  },
  {
   "cell_type": "code",
   "execution_count": 8,
   "source": [
    "import csv"
   ],
   "outputs": [],
   "metadata": {}
  },
  {
   "cell_type": "code",
   "execution_count": 17,
   "source": [
    "# basic print csv output\r\n",
    "\r\n",
    "csv_file = open('routerlist.csv', 'r')\r\n",
    "csv_reader = csv.reader(csv_file)\r\n",
    "csv_data = list(csv_reader)\r\n",
    "csv_data"
   ],
   "outputs": [
    {
     "output_type": "execute_result",
     "data": {
      "text/plain": [
       "[['router1', '192.168.10.1', 'Nashville'],\n",
       " ['router2', '192.168.20.1', 'Tampa'],\n",
       " ['router3', '192.168.30.1', 'San Jose']]"
      ]
     },
     "metadata": {},
     "execution_count": 17
    }
   ],
   "metadata": {}
  },
  {
   "cell_type": "code",
   "execution_count": 38,
   "source": [
    "# more sophisticated way of opening, using with function\r\n",
    "\r\n",
    "with open('routerlist.csv') as data:\r\n",
    "    csv_list = csv.reader(data)\r\n",
    "    for row in csv_list:\r\n",
    "        device = row[0]\r\n",
    "        location = row[2]\r\n",
    "        ip = row[1]\r\n",
    "        print(f'{device} is in {location.rstrip()} and has IP {ip}.')"
   ],
   "outputs": [
    {
     "output_type": "stream",
     "name": "stdout",
     "text": [
      "router1 is in Nashville and has IP 192.168.10.1.\n",
      "router2 is in Tampa and has IP 192.168.20.1.\n",
      "router3 is in San Jose and has IP 192.168.30.1.\n",
      "router4 is in Washington and has IP 192.168.40.1.\n"
     ]
    }
   ],
   "metadata": {}
  },
  {
   "cell_type": "code",
   "execution_count": 37,
   "source": [
    "# add a new router to the csv file\r\n",
    "\r\n",
    "new_router = ['router4', '192.168.40.1', 'Washington']\r\n",
    "\r\n",
    "with open('routerlist.csv', 'a+', newline='') as data:\r\n",
    "    csv_writer = csv.writer(data)\r\n",
    "    csv_writer.writerow(new_router)"
   ],
   "outputs": [],
   "metadata": {}
  },
  {
   "cell_type": "markdown",
   "source": [
    "# JavaScript Object Notation (JSON)"
   ],
   "metadata": {}
  },
  {
   "cell_type": "code",
   "execution_count": 39,
   "source": [
    "import json"
   ],
   "outputs": [],
   "metadata": {}
  },
  {
   "cell_type": "code",
   "execution_count": 52,
   "source": [
    "# Reading JSON into a serialized string, then coverting to Python dict\r\n",
    "# with loads()\r\n",
    "\r\n",
    "with open('json_sample.json', 'r') as data:\r\n",
    "    json_data = data.read()\r\n",
    "\r\n",
    "json_dict = json.loads(json_data)\r\n",
    "\r\n",
    "print(type(json_data), '\\n')\r\n",
    "print(json_data)\r\n",
    "\r\n",
    "print('\\n-----------\\n')\r\n",
    "\r\n",
    "print(type(json_dict), '\\n')\r\n",
    "print(json_dict)\r\n",
    "\r\n",
    "print('\\n-----------\\n')\r\n",
    "\r\n",
    "# Reading in JSON directly to a Python dict with load()\r\n",
    "\r\n",
    "with open('json_sample.json', 'r') as data:\r\n",
    "    json_dict = json.load(data)\r\n",
    "\r\n",
    "print(type(json_dict), '\\n')\r\n",
    "print(json_dict)"
   ],
   "outputs": [
    {
     "output_type": "stream",
     "name": "stdout",
     "text": [
      "<class 'str'> \n",
      "\n",
      "{\n",
      "  \"interface\": {\n",
      "    \"name\": \"GigabitEthernet1\",\n",
      "    \"description\": \"Router Uplink\",\n",
      "    \"enabled\": true,\n",
      "    \"ipv4\": {\n",
      "      \"address\": [\n",
      "        {\n",
      "          \"ip\": \"192.168.1.1\",\n",
      "          \"netmask\": \"255.255.255.0\"\n",
      "        }\n",
      "      ]\n",
      "    }\n",
      "  }\n",
      "}\n",
      "\n",
      "\n",
      "-----------\n",
      "\n",
      "<class 'dict'> \n",
      "\n",
      "{'interface': {'name': 'GigabitEthernet1', 'description': 'Router Uplink', 'enabled': True, 'ipv4': {'address': [{'ip': '192.168.1.1', 'netmask': '255.255.255.0'}]}}}\n",
      "\n",
      "-----------\n",
      "\n",
      "<class 'dict'> \n",
      "\n",
      "{'interface': {'name': 'GigabitEthernet1', 'description': 'Router Uplink', 'enabled': True, 'ipv4': {'address': [{'ip': '192.168.1.1', 'netmask': '255.255.255.0'}]}}}\n"
     ]
    }
   ],
   "metadata": {}
  },
  {
   "cell_type": "markdown",
   "source": [
    "# Extensible Markup Language (XML)"
   ],
   "metadata": {}
  },
  {
   "cell_type": "code",
   "execution_count": 1,
   "source": [
    "import xmltodict"
   ],
   "outputs": [],
   "metadata": {}
  },
  {
   "cell_type": "code",
   "execution_count": 4,
   "source": [
    "# Create Python dict with xmltodict module help in reading file\r\n",
    "\r\n",
    "with open('xml_sample.xml') as data:\r\n",
    "    xml_data = data.read()\r\n",
    "\r\n",
    "xml_dict = xmltodict.parse(xml_data)\r\n",
    "\r\n",
    "print(xml_dict)"
   ],
   "outputs": [
    {
     "output_type": "stream",
     "name": "stdout",
     "text": [
      "OrderedDict([('interface', OrderedDict([('@xmlns', 'ietf-interfaces'), ('name', 'GigabitEthernet2'), ('description', 'Wide Area Network'), ('enabled', 'true'), ('ipv4', OrderedDict([('address', OrderedDict([('ip', '192.168.1.5'), ('netmask', '255.255.255.0')]))]))]))])\n"
     ]
    }
   ],
   "metadata": {}
  },
  {
   "cell_type": "code",
   "execution_count": 11,
   "source": [
    "# Make a change to the XML Pytohn dict with indexing\r\n",
    "\r\n",
    "xml_dict['interface']['ipv4']['address']['ip'] = '192.168.100.2'"
   ],
   "outputs": [],
   "metadata": {}
  },
  {
   "cell_type": "code",
   "execution_count": 12,
   "source": [
    "# print out the XML file\r\n",
    "\r\n",
    "print(xmltodict.unparse(xml_dict, pretty=True))"
   ],
   "outputs": [
    {
     "output_type": "stream",
     "name": "stdout",
     "text": [
      "<?xml version=\"1.0\" encoding=\"utf-8\"?>\n",
      "<interface xmlns=\"ietf-interfaces\">\n",
      "\t<name>GigabitEthernet2</name>\n",
      "\t<description>Wide Area Network</description>\n",
      "\t<enabled>true</enabled>\n",
      "\t<ipv4>\n",
      "\t\t<address>\n",
      "\t\t\t<ip>192.168.100.2</ip>\n",
      "\t\t\t<netmask>255.255.255.0</netmask>\n",
      "\t\t</address>\n",
      "\t</ipv4>\n",
      "</interface>\n"
     ]
    }
   ],
   "metadata": {}
  },
  {
   "cell_type": "markdown",
   "source": [
    "# YAML Ain't Markup Language (YAML)"
   ],
   "metadata": {}
  },
  {
   "cell_type": "code",
   "execution_count": 13,
   "source": [
    "import yaml"
   ],
   "outputs": [],
   "metadata": {}
  },
  {
   "cell_type": "code",
   "execution_count": 17,
   "source": [
    "# read in YAML file\r\n",
    "\r\n",
    "with open('yaml_sample.yaml') as data:\r\n",
    "    yaml_data = data.read()\r\n",
    "\r\n",
    "yaml_dict = yaml.load(yaml_data, Loader=yaml.FullLoader)\r\n",
    "\r\n",
    "print(type(yaml_dict))\r\n",
    "print(yaml_dict)"
   ],
   "outputs": [
    {
     "output_type": "stream",
     "name": "stdout",
     "text": [
      "<class 'dict'>\n",
      "{'interface': {'name': 'GigabitEthernet2', 'description': 'Wide Area Network', 'enabled': True, 'ipv4': None, 'address': [{'ip': '172.16.0.2'}], 'netmask': '255.255.255.0', 'addresses': [{'ip': '172.16.0.2', 'netmask': '255.255.255.0'}, {'ip': '172.16.0.3', 'netmask': '255.255.255.0'}, {'ip': '172.16.0.4', 'netmask': '255.255.255.0'}]}}\n"
     ]
    }
   ],
   "metadata": {}
  },
  {
   "cell_type": "markdown",
   "source": [
    "# Unit Testing"
   ],
   "metadata": {}
  },
  {
   "cell_type": "code",
   "execution_count": 18,
   "source": [
    "import unittest"
   ],
   "outputs": [],
   "metadata": {}
  },
  {
   "cell_type": "code",
   "execution_count": 19,
   "source": [
    "# Will run unittest in seperate file"
   ],
   "outputs": [],
   "metadata": {}
  },
  {
   "cell_type": "code",
   "execution_count": null,
   "source": [],
   "outputs": [],
   "metadata": {}
  }
 ],
 "metadata": {
  "orig_nbformat": 4,
  "language_info": {
   "name": "python",
   "version": "3.9.4",
   "mimetype": "text/x-python",
   "codemirror_mode": {
    "name": "ipython",
    "version": 3
   },
   "pygments_lexer": "ipython3",
   "nbconvert_exporter": "python",
   "file_extension": ".py"
  },
  "kernelspec": {
   "name": "python3",
   "display_name": "Python 3.9.4 64-bit ('pythonenv': venv)"
  },
  "interpreter": {
   "hash": "d5b0bae0a91c8b42c177ee7ef5b6dbba736eee820cd0a526f053effa466d1df8"
  }
 },
 "nbformat": 4,
 "nbformat_minor": 2
}